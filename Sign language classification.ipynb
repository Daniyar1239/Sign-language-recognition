{
  "nbformat": 4,
  "nbformat_minor": 0,
  "metadata": {
    "colab": {
      "provenance": [],
      "collapsed_sections": [
        "actyP_4V4Da1"
      ]
    },
    "kernelspec": {
      "name": "python3",
      "display_name": "Python 3"
    },
    "language_info": {
      "name": "python"
    },
    "accelerator": "GPU",
    "gpuClass": "standard"
  },
  "cells": [
    {
      "cell_type": "markdown",
      "source": [
        "## Importing basic libraries required for the project"
      ],
      "metadata": {
        "id": "o3mPIihYMk-c"
      }
    },
    {
      "cell_type": "code",
      "execution_count": null,
      "metadata": {
        "id": "ceW_inIOMdYT"
      },
      "outputs": [],
      "source": [
        "import math\n",
        "import numpy as np\n",
        "import tensorflow as tf\n",
        "import keras\n",
        "import matplotlib.pyplot as plt\n",
        "import pandas as pd\n",
        "import seaborn as sns\n",
        "\n",
        "tf.random.set_seed(20)"
      ]
    },
    {
      "cell_type": "markdown",
      "source": [
        "## Mounting google drive to download a dataset from there"
      ],
      "metadata": {
        "id": "J2Zy4dlH2N5F"
      }
    },
    {
      "cell_type": "code",
      "source": [
        "from google.colab import drive\n",
        "drive.mount('/content/gdrive')"
      ],
      "metadata": {
        "colab": {
          "base_uri": "https://localhost:8080/"
        },
        "id": "Z-Bq1l_4N_vt",
        "outputId": "c5944859-e232-4b40-b29c-aefd88287733"
      },
      "execution_count": null,
      "outputs": [
        {
          "output_type": "stream",
          "name": "stdout",
          "text": [
            "Mounted at /content/gdrive\n"
          ]
        }
      ]
    },
    {
      "cell_type": "code",
      "source": [
        "train_set = pd.read_csv('gdrive/My Drive/MNIST Sign Language Dataset/sign_mnist_train/sign_mnist_train.csv')\n",
        "test_set = pd.read_csv('gdrive/My Drive/MNIST Sign Language Dataset/sign_mnist_test/sign_mnist_test.csv')"
      ],
      "metadata": {
        "id": "i5X8H_VWj_GW"
      },
      "execution_count": null,
      "outputs": []
    },
    {
      "cell_type": "markdown",
      "source": [
        "## Dataset depiction"
      ],
      "metadata": {
        "id": "9aX4hOxJ2Uwr"
      }
    },
    {
      "cell_type": "code",
      "source": [
        "train_set.head()"
      ],
      "metadata": {
        "colab": {
          "base_uri": "https://localhost:8080/",
          "height": 236
        },
        "id": "1rIXyKy9pHRB",
        "outputId": "31afdec9-a1ed-4bc6-aa55-48b213e1cfa2"
      },
      "execution_count": null,
      "outputs": [
        {
          "output_type": "execute_result",
          "data": {
            "text/plain": [
              "   label  pixel1  pixel2  pixel3  pixel4  pixel5  pixel6  pixel7  pixel8  \\\n",
              "0      3     107     118     127     134     139     143     146     150   \n",
              "1      6     155     157     156     156     156     157     156     158   \n",
              "2      2     187     188     188     187     187     186     187     188   \n",
              "3      2     211     211     212     212     211     210     211     210   \n",
              "4     13     164     167     170     172     176     179     180     184   \n",
              "\n",
              "   pixel9  ...  pixel775  pixel776  pixel777  pixel778  pixel779  pixel780  \\\n",
              "0     153  ...       207       207       207       207       206       206   \n",
              "1     158  ...        69       149       128        87        94       163   \n",
              "2     187  ...       202       201       200       199       198       199   \n",
              "3     210  ...       235       234       233       231       230       226   \n",
              "4     185  ...        92       105       105       108       133       163   \n",
              "\n",
              "   pixel781  pixel782  pixel783  pixel784  \n",
              "0       206       204       203       202  \n",
              "1       175       103       135       149  \n",
              "2       198       195       194       195  \n",
              "3       225       222       229       163  \n",
              "4       157       163       164       179  \n",
              "\n",
              "[5 rows x 785 columns]"
            ],
            "text/html": [
              "\n",
              "  <div id=\"df-b94a5b77-8f40-43b5-b616-ad39ca4075d8\">\n",
              "    <div class=\"colab-df-container\">\n",
              "      <div>\n",
              "<style scoped>\n",
              "    .dataframe tbody tr th:only-of-type {\n",
              "        vertical-align: middle;\n",
              "    }\n",
              "\n",
              "    .dataframe tbody tr th {\n",
              "        vertical-align: top;\n",
              "    }\n",
              "\n",
              "    .dataframe thead th {\n",
              "        text-align: right;\n",
              "    }\n",
              "</style>\n",
              "<table border=\"1\" class=\"dataframe\">\n",
              "  <thead>\n",
              "    <tr style=\"text-align: right;\">\n",
              "      <th></th>\n",
              "      <th>label</th>\n",
              "      <th>pixel1</th>\n",
              "      <th>pixel2</th>\n",
              "      <th>pixel3</th>\n",
              "      <th>pixel4</th>\n",
              "      <th>pixel5</th>\n",
              "      <th>pixel6</th>\n",
              "      <th>pixel7</th>\n",
              "      <th>pixel8</th>\n",
              "      <th>pixel9</th>\n",
              "      <th>...</th>\n",
              "      <th>pixel775</th>\n",
              "      <th>pixel776</th>\n",
              "      <th>pixel777</th>\n",
              "      <th>pixel778</th>\n",
              "      <th>pixel779</th>\n",
              "      <th>pixel780</th>\n",
              "      <th>pixel781</th>\n",
              "      <th>pixel782</th>\n",
              "      <th>pixel783</th>\n",
              "      <th>pixel784</th>\n",
              "    </tr>\n",
              "  </thead>\n",
              "  <tbody>\n",
              "    <tr>\n",
              "      <th>0</th>\n",
              "      <td>3</td>\n",
              "      <td>107</td>\n",
              "      <td>118</td>\n",
              "      <td>127</td>\n",
              "      <td>134</td>\n",
              "      <td>139</td>\n",
              "      <td>143</td>\n",
              "      <td>146</td>\n",
              "      <td>150</td>\n",
              "      <td>153</td>\n",
              "      <td>...</td>\n",
              "      <td>207</td>\n",
              "      <td>207</td>\n",
              "      <td>207</td>\n",
              "      <td>207</td>\n",
              "      <td>206</td>\n",
              "      <td>206</td>\n",
              "      <td>206</td>\n",
              "      <td>204</td>\n",
              "      <td>203</td>\n",
              "      <td>202</td>\n",
              "    </tr>\n",
              "    <tr>\n",
              "      <th>1</th>\n",
              "      <td>6</td>\n",
              "      <td>155</td>\n",
              "      <td>157</td>\n",
              "      <td>156</td>\n",
              "      <td>156</td>\n",
              "      <td>156</td>\n",
              "      <td>157</td>\n",
              "      <td>156</td>\n",
              "      <td>158</td>\n",
              "      <td>158</td>\n",
              "      <td>...</td>\n",
              "      <td>69</td>\n",
              "      <td>149</td>\n",
              "      <td>128</td>\n",
              "      <td>87</td>\n",
              "      <td>94</td>\n",
              "      <td>163</td>\n",
              "      <td>175</td>\n",
              "      <td>103</td>\n",
              "      <td>135</td>\n",
              "      <td>149</td>\n",
              "    </tr>\n",
              "    <tr>\n",
              "      <th>2</th>\n",
              "      <td>2</td>\n",
              "      <td>187</td>\n",
              "      <td>188</td>\n",
              "      <td>188</td>\n",
              "      <td>187</td>\n",
              "      <td>187</td>\n",
              "      <td>186</td>\n",
              "      <td>187</td>\n",
              "      <td>188</td>\n",
              "      <td>187</td>\n",
              "      <td>...</td>\n",
              "      <td>202</td>\n",
              "      <td>201</td>\n",
              "      <td>200</td>\n",
              "      <td>199</td>\n",
              "      <td>198</td>\n",
              "      <td>199</td>\n",
              "      <td>198</td>\n",
              "      <td>195</td>\n",
              "      <td>194</td>\n",
              "      <td>195</td>\n",
              "    </tr>\n",
              "    <tr>\n",
              "      <th>3</th>\n",
              "      <td>2</td>\n",
              "      <td>211</td>\n",
              "      <td>211</td>\n",
              "      <td>212</td>\n",
              "      <td>212</td>\n",
              "      <td>211</td>\n",
              "      <td>210</td>\n",
              "      <td>211</td>\n",
              "      <td>210</td>\n",
              "      <td>210</td>\n",
              "      <td>...</td>\n",
              "      <td>235</td>\n",
              "      <td>234</td>\n",
              "      <td>233</td>\n",
              "      <td>231</td>\n",
              "      <td>230</td>\n",
              "      <td>226</td>\n",
              "      <td>225</td>\n",
              "      <td>222</td>\n",
              "      <td>229</td>\n",
              "      <td>163</td>\n",
              "    </tr>\n",
              "    <tr>\n",
              "      <th>4</th>\n",
              "      <td>13</td>\n",
              "      <td>164</td>\n",
              "      <td>167</td>\n",
              "      <td>170</td>\n",
              "      <td>172</td>\n",
              "      <td>176</td>\n",
              "      <td>179</td>\n",
              "      <td>180</td>\n",
              "      <td>184</td>\n",
              "      <td>185</td>\n",
              "      <td>...</td>\n",
              "      <td>92</td>\n",
              "      <td>105</td>\n",
              "      <td>105</td>\n",
              "      <td>108</td>\n",
              "      <td>133</td>\n",
              "      <td>163</td>\n",
              "      <td>157</td>\n",
              "      <td>163</td>\n",
              "      <td>164</td>\n",
              "      <td>179</td>\n",
              "    </tr>\n",
              "  </tbody>\n",
              "</table>\n",
              "<p>5 rows × 785 columns</p>\n",
              "</div>\n",
              "      <button class=\"colab-df-convert\" onclick=\"convertToInteractive('df-b94a5b77-8f40-43b5-b616-ad39ca4075d8')\"\n",
              "              title=\"Convert this dataframe to an interactive table.\"\n",
              "              style=\"display:none;\">\n",
              "        \n",
              "  <svg xmlns=\"http://www.w3.org/2000/svg\" height=\"24px\"viewBox=\"0 0 24 24\"\n",
              "       width=\"24px\">\n",
              "    <path d=\"M0 0h24v24H0V0z\" fill=\"none\"/>\n",
              "    <path d=\"M18.56 5.44l.94 2.06.94-2.06 2.06-.94-2.06-.94-.94-2.06-.94 2.06-2.06.94zm-11 1L8.5 8.5l.94-2.06 2.06-.94-2.06-.94L8.5 2.5l-.94 2.06-2.06.94zm10 10l.94 2.06.94-2.06 2.06-.94-2.06-.94-.94-2.06-.94 2.06-2.06.94z\"/><path d=\"M17.41 7.96l-1.37-1.37c-.4-.4-.92-.59-1.43-.59-.52 0-1.04.2-1.43.59L10.3 9.45l-7.72 7.72c-.78.78-.78 2.05 0 2.83L4 21.41c.39.39.9.59 1.41.59.51 0 1.02-.2 1.41-.59l7.78-7.78 2.81-2.81c.8-.78.8-2.07 0-2.86zM5.41 20L4 18.59l7.72-7.72 1.47 1.35L5.41 20z\"/>\n",
              "  </svg>\n",
              "      </button>\n",
              "      \n",
              "  <style>\n",
              "    .colab-df-container {\n",
              "      display:flex;\n",
              "      flex-wrap:wrap;\n",
              "      gap: 12px;\n",
              "    }\n",
              "\n",
              "    .colab-df-convert {\n",
              "      background-color: #E8F0FE;\n",
              "      border: none;\n",
              "      border-radius: 50%;\n",
              "      cursor: pointer;\n",
              "      display: none;\n",
              "      fill: #1967D2;\n",
              "      height: 32px;\n",
              "      padding: 0 0 0 0;\n",
              "      width: 32px;\n",
              "    }\n",
              "\n",
              "    .colab-df-convert:hover {\n",
              "      background-color: #E2EBFA;\n",
              "      box-shadow: 0px 1px 2px rgba(60, 64, 67, 0.3), 0px 1px 3px 1px rgba(60, 64, 67, 0.15);\n",
              "      fill: #174EA6;\n",
              "    }\n",
              "\n",
              "    [theme=dark] .colab-df-convert {\n",
              "      background-color: #3B4455;\n",
              "      fill: #D2E3FC;\n",
              "    }\n",
              "\n",
              "    [theme=dark] .colab-df-convert:hover {\n",
              "      background-color: #434B5C;\n",
              "      box-shadow: 0px 1px 3px 1px rgba(0, 0, 0, 0.15);\n",
              "      filter: drop-shadow(0px 1px 2px rgba(0, 0, 0, 0.3));\n",
              "      fill: #FFFFFF;\n",
              "    }\n",
              "  </style>\n",
              "\n",
              "      <script>\n",
              "        const buttonEl =\n",
              "          document.querySelector('#df-b94a5b77-8f40-43b5-b616-ad39ca4075d8 button.colab-df-convert');\n",
              "        buttonEl.style.display =\n",
              "          google.colab.kernel.accessAllowed ? 'block' : 'none';\n",
              "\n",
              "        async function convertToInteractive(key) {\n",
              "          const element = document.querySelector('#df-b94a5b77-8f40-43b5-b616-ad39ca4075d8');\n",
              "          const dataTable =\n",
              "            await google.colab.kernel.invokeFunction('convertToInteractive',\n",
              "                                                     [key], {});\n",
              "          if (!dataTable) return;\n",
              "\n",
              "          const docLinkHtml = 'Like what you see? Visit the ' +\n",
              "            '<a target=\"_blank\" href=https://colab.research.google.com/notebooks/data_table.ipynb>data table notebook</a>'\n",
              "            + ' to learn more about interactive tables.';\n",
              "          element.innerHTML = '';\n",
              "          dataTable['output_type'] = 'display_data';\n",
              "          await google.colab.output.renderOutput(dataTable, element);\n",
              "          const docLink = document.createElement('div');\n",
              "          docLink.innerHTML = docLinkHtml;\n",
              "          element.appendChild(docLink);\n",
              "        }\n",
              "      </script>\n",
              "    </div>\n",
              "  </div>\n",
              "  "
            ]
          },
          "metadata": {},
          "execution_count": 4
        }
      ]
    },
    {
      "cell_type": "code",
      "source": [
        "test_set.head()"
      ],
      "metadata": {
        "colab": {
          "base_uri": "https://localhost:8080/",
          "height": 236
        },
        "id": "4LYac-uppcUv",
        "outputId": "c0202d08-ce12-40e5-d557-b72b9baf6250"
      },
      "execution_count": null,
      "outputs": [
        {
          "output_type": "execute_result",
          "data": {
            "text/plain": [
              "   label  pixel1  pixel2  pixel3  pixel4  pixel5  pixel6  pixel7  pixel8  \\\n",
              "0      6     149     149     150     150     150     151     151     150   \n",
              "1      5     126     128     131     132     133     134     135     135   \n",
              "2     10      85      88      92      96     105     123     135     143   \n",
              "3      0     203     205     207     206     207     209     210     209   \n",
              "4      3     188     191     193     195     199     201     202     203   \n",
              "\n",
              "   pixel9  ...  pixel775  pixel776  pixel777  pixel778  pixel779  pixel780  \\\n",
              "0     151  ...       138       148       127        89        82        96   \n",
              "1     136  ...        47       104       194       183       186       184   \n",
              "2     147  ...        68       166       242       227       230       227   \n",
              "3     210  ...       154       248       247       248       253       236   \n",
              "4     203  ...        26        40        64        48        29        46   \n",
              "\n",
              "   pixel781  pixel782  pixel783  pixel784  \n",
              "0       106       112       120       107  \n",
              "1       184       184       182       180  \n",
              "2       226       225       224       222  \n",
              "3       230       240       253       255  \n",
              "4        49        46        46        53  \n",
              "\n",
              "[5 rows x 785 columns]"
            ],
            "text/html": [
              "\n",
              "  <div id=\"df-0d5452ac-ea44-4e2b-802f-45f28ec9d0fc\">\n",
              "    <div class=\"colab-df-container\">\n",
              "      <div>\n",
              "<style scoped>\n",
              "    .dataframe tbody tr th:only-of-type {\n",
              "        vertical-align: middle;\n",
              "    }\n",
              "\n",
              "    .dataframe tbody tr th {\n",
              "        vertical-align: top;\n",
              "    }\n",
              "\n",
              "    .dataframe thead th {\n",
              "        text-align: right;\n",
              "    }\n",
              "</style>\n",
              "<table border=\"1\" class=\"dataframe\">\n",
              "  <thead>\n",
              "    <tr style=\"text-align: right;\">\n",
              "      <th></th>\n",
              "      <th>label</th>\n",
              "      <th>pixel1</th>\n",
              "      <th>pixel2</th>\n",
              "      <th>pixel3</th>\n",
              "      <th>pixel4</th>\n",
              "      <th>pixel5</th>\n",
              "      <th>pixel6</th>\n",
              "      <th>pixel7</th>\n",
              "      <th>pixel8</th>\n",
              "      <th>pixel9</th>\n",
              "      <th>...</th>\n",
              "      <th>pixel775</th>\n",
              "      <th>pixel776</th>\n",
              "      <th>pixel777</th>\n",
              "      <th>pixel778</th>\n",
              "      <th>pixel779</th>\n",
              "      <th>pixel780</th>\n",
              "      <th>pixel781</th>\n",
              "      <th>pixel782</th>\n",
              "      <th>pixel783</th>\n",
              "      <th>pixel784</th>\n",
              "    </tr>\n",
              "  </thead>\n",
              "  <tbody>\n",
              "    <tr>\n",
              "      <th>0</th>\n",
              "      <td>6</td>\n",
              "      <td>149</td>\n",
              "      <td>149</td>\n",
              "      <td>150</td>\n",
              "      <td>150</td>\n",
              "      <td>150</td>\n",
              "      <td>151</td>\n",
              "      <td>151</td>\n",
              "      <td>150</td>\n",
              "      <td>151</td>\n",
              "      <td>...</td>\n",
              "      <td>138</td>\n",
              "      <td>148</td>\n",
              "      <td>127</td>\n",
              "      <td>89</td>\n",
              "      <td>82</td>\n",
              "      <td>96</td>\n",
              "      <td>106</td>\n",
              "      <td>112</td>\n",
              "      <td>120</td>\n",
              "      <td>107</td>\n",
              "    </tr>\n",
              "    <tr>\n",
              "      <th>1</th>\n",
              "      <td>5</td>\n",
              "      <td>126</td>\n",
              "      <td>128</td>\n",
              "      <td>131</td>\n",
              "      <td>132</td>\n",
              "      <td>133</td>\n",
              "      <td>134</td>\n",
              "      <td>135</td>\n",
              "      <td>135</td>\n",
              "      <td>136</td>\n",
              "      <td>...</td>\n",
              "      <td>47</td>\n",
              "      <td>104</td>\n",
              "      <td>194</td>\n",
              "      <td>183</td>\n",
              "      <td>186</td>\n",
              "      <td>184</td>\n",
              "      <td>184</td>\n",
              "      <td>184</td>\n",
              "      <td>182</td>\n",
              "      <td>180</td>\n",
              "    </tr>\n",
              "    <tr>\n",
              "      <th>2</th>\n",
              "      <td>10</td>\n",
              "      <td>85</td>\n",
              "      <td>88</td>\n",
              "      <td>92</td>\n",
              "      <td>96</td>\n",
              "      <td>105</td>\n",
              "      <td>123</td>\n",
              "      <td>135</td>\n",
              "      <td>143</td>\n",
              "      <td>147</td>\n",
              "      <td>...</td>\n",
              "      <td>68</td>\n",
              "      <td>166</td>\n",
              "      <td>242</td>\n",
              "      <td>227</td>\n",
              "      <td>230</td>\n",
              "      <td>227</td>\n",
              "      <td>226</td>\n",
              "      <td>225</td>\n",
              "      <td>224</td>\n",
              "      <td>222</td>\n",
              "    </tr>\n",
              "    <tr>\n",
              "      <th>3</th>\n",
              "      <td>0</td>\n",
              "      <td>203</td>\n",
              "      <td>205</td>\n",
              "      <td>207</td>\n",
              "      <td>206</td>\n",
              "      <td>207</td>\n",
              "      <td>209</td>\n",
              "      <td>210</td>\n",
              "      <td>209</td>\n",
              "      <td>210</td>\n",
              "      <td>...</td>\n",
              "      <td>154</td>\n",
              "      <td>248</td>\n",
              "      <td>247</td>\n",
              "      <td>248</td>\n",
              "      <td>253</td>\n",
              "      <td>236</td>\n",
              "      <td>230</td>\n",
              "      <td>240</td>\n",
              "      <td>253</td>\n",
              "      <td>255</td>\n",
              "    </tr>\n",
              "    <tr>\n",
              "      <th>4</th>\n",
              "      <td>3</td>\n",
              "      <td>188</td>\n",
              "      <td>191</td>\n",
              "      <td>193</td>\n",
              "      <td>195</td>\n",
              "      <td>199</td>\n",
              "      <td>201</td>\n",
              "      <td>202</td>\n",
              "      <td>203</td>\n",
              "      <td>203</td>\n",
              "      <td>...</td>\n",
              "      <td>26</td>\n",
              "      <td>40</td>\n",
              "      <td>64</td>\n",
              "      <td>48</td>\n",
              "      <td>29</td>\n",
              "      <td>46</td>\n",
              "      <td>49</td>\n",
              "      <td>46</td>\n",
              "      <td>46</td>\n",
              "      <td>53</td>\n",
              "    </tr>\n",
              "  </tbody>\n",
              "</table>\n",
              "<p>5 rows × 785 columns</p>\n",
              "</div>\n",
              "      <button class=\"colab-df-convert\" onclick=\"convertToInteractive('df-0d5452ac-ea44-4e2b-802f-45f28ec9d0fc')\"\n",
              "              title=\"Convert this dataframe to an interactive table.\"\n",
              "              style=\"display:none;\">\n",
              "        \n",
              "  <svg xmlns=\"http://www.w3.org/2000/svg\" height=\"24px\"viewBox=\"0 0 24 24\"\n",
              "       width=\"24px\">\n",
              "    <path d=\"M0 0h24v24H0V0z\" fill=\"none\"/>\n",
              "    <path d=\"M18.56 5.44l.94 2.06.94-2.06 2.06-.94-2.06-.94-.94-2.06-.94 2.06-2.06.94zm-11 1L8.5 8.5l.94-2.06 2.06-.94-2.06-.94L8.5 2.5l-.94 2.06-2.06.94zm10 10l.94 2.06.94-2.06 2.06-.94-2.06-.94-.94-2.06-.94 2.06-2.06.94z\"/><path d=\"M17.41 7.96l-1.37-1.37c-.4-.4-.92-.59-1.43-.59-.52 0-1.04.2-1.43.59L10.3 9.45l-7.72 7.72c-.78.78-.78 2.05 0 2.83L4 21.41c.39.39.9.59 1.41.59.51 0 1.02-.2 1.41-.59l7.78-7.78 2.81-2.81c.8-.78.8-2.07 0-2.86zM5.41 20L4 18.59l7.72-7.72 1.47 1.35L5.41 20z\"/>\n",
              "  </svg>\n",
              "      </button>\n",
              "      \n",
              "  <style>\n",
              "    .colab-df-container {\n",
              "      display:flex;\n",
              "      flex-wrap:wrap;\n",
              "      gap: 12px;\n",
              "    }\n",
              "\n",
              "    .colab-df-convert {\n",
              "      background-color: #E8F0FE;\n",
              "      border: none;\n",
              "      border-radius: 50%;\n",
              "      cursor: pointer;\n",
              "      display: none;\n",
              "      fill: #1967D2;\n",
              "      height: 32px;\n",
              "      padding: 0 0 0 0;\n",
              "      width: 32px;\n",
              "    }\n",
              "\n",
              "    .colab-df-convert:hover {\n",
              "      background-color: #E2EBFA;\n",
              "      box-shadow: 0px 1px 2px rgba(60, 64, 67, 0.3), 0px 1px 3px 1px rgba(60, 64, 67, 0.15);\n",
              "      fill: #174EA6;\n",
              "    }\n",
              "\n",
              "    [theme=dark] .colab-df-convert {\n",
              "      background-color: #3B4455;\n",
              "      fill: #D2E3FC;\n",
              "    }\n",
              "\n",
              "    [theme=dark] .colab-df-convert:hover {\n",
              "      background-color: #434B5C;\n",
              "      box-shadow: 0px 1px 3px 1px rgba(0, 0, 0, 0.15);\n",
              "      filter: drop-shadow(0px 1px 2px rgba(0, 0, 0, 0.3));\n",
              "      fill: #FFFFFF;\n",
              "    }\n",
              "  </style>\n",
              "\n",
              "      <script>\n",
              "        const buttonEl =\n",
              "          document.querySelector('#df-0d5452ac-ea44-4e2b-802f-45f28ec9d0fc button.colab-df-convert');\n",
              "        buttonEl.style.display =\n",
              "          google.colab.kernel.accessAllowed ? 'block' : 'none';\n",
              "\n",
              "        async function convertToInteractive(key) {\n",
              "          const element = document.querySelector('#df-0d5452ac-ea44-4e2b-802f-45f28ec9d0fc');\n",
              "          const dataTable =\n",
              "            await google.colab.kernel.invokeFunction('convertToInteractive',\n",
              "                                                     [key], {});\n",
              "          if (!dataTable) return;\n",
              "\n",
              "          const docLinkHtml = 'Like what you see? Visit the ' +\n",
              "            '<a target=\"_blank\" href=https://colab.research.google.com/notebooks/data_table.ipynb>data table notebook</a>'\n",
              "            + ' to learn more about interactive tables.';\n",
              "          element.innerHTML = '';\n",
              "          dataTable['output_type'] = 'display_data';\n",
              "          await google.colab.output.renderOutput(dataTable, element);\n",
              "          const docLink = document.createElement('div');\n",
              "          docLink.innerHTML = docLinkHtml;\n",
              "          element.appendChild(docLink);\n",
              "        }\n",
              "      </script>\n",
              "    </div>\n",
              "  </div>\n",
              "  "
            ]
          },
          "metadata": {},
          "execution_count": 5
        }
      ]
    },
    {
      "cell_type": "code",
      "source": [
        "print('The shape of the training set:' + str(train_set.shape))\n",
        "print('The shape of the test (hold_out) set:' + str(test_set.shape))"
      ],
      "metadata": {
        "colab": {
          "base_uri": "https://localhost:8080/"
        },
        "id": "AshC0-gOpgvu",
        "outputId": "d39cc8c0-88f1-4e0c-d215-8ed4d9927b5f"
      },
      "execution_count": null,
      "outputs": [
        {
          "output_type": "stream",
          "name": "stdout",
          "text": [
            "The shape of the training set:(27455, 785)\n",
            "The shape of the test (hold_out) set:(7172, 785)\n"
          ]
        }
      ]
    },
    {
      "cell_type": "markdown",
      "source": [
        "### Checking if the datasets have missing values in any of the columns"
      ],
      "metadata": {
        "id": "HkLGV5pwsIAX"
      }
    },
    {
      "cell_type": "code",
      "source": [
        "print(sum(train_set.isna().sum()))\n",
        "print(sum(test_set.isna().sum()))"
      ],
      "metadata": {
        "colab": {
          "base_uri": "https://localhost:8080/"
        },
        "id": "V9KHYmfipy6W",
        "outputId": "4b537c05-dfd5-4301-8267-08524fd48d01"
      },
      "execution_count": null,
      "outputs": [
        {
          "output_type": "stream",
          "name": "stdout",
          "text": [
            "0\n",
            "0\n"
          ]
        }
      ]
    },
    {
      "cell_type": "markdown",
      "source": [
        "### Separating input images from labels for both sets"
      ],
      "metadata": {
        "id": "obYGe33Zsbnl"
      }
    },
    {
      "cell_type": "code",
      "source": [
        "X_train = train_set.drop(labels = ['label'], axis=1)\n",
        "y_train = train_set['label']\n",
        "X_test = test_set.drop(labels = ['label'], axis = 1)\n",
        "y_test = test_set['label']\n",
        "print('X_train shape:' + str(X_train.shape) + '\\ny_train shape:' + str(y_train.shape) + '\\nX_test shape:' + str(X_test.shape) + '\\ny_test shape:'\n",
        "+ str(y_test.shape))"
      ],
      "metadata": {
        "colab": {
          "base_uri": "https://localhost:8080/"
        },
        "id": "aeA86-SIsSK7",
        "outputId": "91923550-cd82-48da-ead9-75ca3977f8ff"
      },
      "execution_count": null,
      "outputs": [
        {
          "output_type": "stream",
          "name": "stdout",
          "text": [
            "X_train shape:(27455, 784)\n",
            "y_train shape:(27455,)\n",
            "X_test shape:(7172, 784)\n",
            "y_test shape:(7172,)\n"
          ]
        }
      ]
    },
    {
      "cell_type": "code",
      "source": [
        "unique_labels = y_train.unique()\n",
        "unique_labels = np.sort(unique_labels)\n",
        "unique_labels"
      ],
      "metadata": {
        "colab": {
          "base_uri": "https://localhost:8080/"
        },
        "id": "aAhcSRzut-gQ",
        "outputId": "4b917582-b81c-4bb5-fd02-76de0827a898"
      },
      "execution_count": null,
      "outputs": [
        {
          "output_type": "execute_result",
          "data": {
            "text/plain": [
              "array([ 0,  1,  2,  3,  4,  5,  6,  7,  8, 10, 11, 12, 13, 14, 15, 16, 17,\n",
              "       18, 19, 20, 21, 22, 23, 24])"
            ]
          },
          "metadata": {},
          "execution_count": 54
        }
      ]
    },
    {
      "cell_type": "code",
      "source": [
        "y_train[0]"
      ],
      "metadata": {
        "colab": {
          "base_uri": "https://localhost:8080/"
        },
        "id": "9dE4FN-yJvNO",
        "outputId": "7045b9b9-c271-43bc-b938-453814e128b9"
      },
      "execution_count": null,
      "outputs": [
        {
          "output_type": "execute_result",
          "data": {
            "text/plain": [
              "3"
            ]
          },
          "metadata": {},
          "execution_count": 10
        }
      ]
    },
    {
      "cell_type": "markdown",
      "source": [
        "### Reshaping the images"
      ],
      "metadata": {
        "id": "LU9Eq7amuSYo"
      }
    },
    {
      "cell_type": "code",
      "source": [
        "d = int((X_train.shape[1])**0.5)\n",
        "print(f'Shape of the images: {d} x {d}')\n",
        "X_train = X_train.values.reshape(-1,d,d,1)\n",
        "X_test = X_test.values.reshape(-1,d,d,1)\n",
        "print(X_train.shape)\n",
        "print(X_test.shape)\n",
        "print('Number of unique classes:', y_train.nunique())"
      ],
      "metadata": {
        "colab": {
          "base_uri": "https://localhost:8080/"
        },
        "id": "cfy9ZQFNt5sx",
        "outputId": "dde7bb55-6fc1-44a8-b9e6-5931f32a7e7c"
      },
      "execution_count": null,
      "outputs": [
        {
          "output_type": "stream",
          "name": "stdout",
          "text": [
            "Shape of the images: 28 x 28\n",
            "(27455, 28, 28, 1)\n",
            "(7172, 28, 28, 1)\n",
            "Number of unique classes: 24\n"
          ]
        }
      ]
    },
    {
      "cell_type": "markdown",
      "source": [
        "### Plor the distribution of classes"
      ],
      "metadata": {
        "id": "-jWzWyT91dWC"
      }
    },
    {
      "cell_type": "code",
      "source": [
        "import warnings\n",
        "warnings.filterwarnings('ignore')\n",
        "\n",
        "plt.figure(figsize=(15,5))\n",
        "sns.countplot(y_train, palette = sns.color_palette())\n",
        "plt.xlabel(\"Classes\", fontsize = 20)\n",
        "plt.ylabel(\"Count\", fontsize = 20)\n",
        "plt.title(\"Images per Class for the Training Set\", fontsize=25)\n",
        "plt.show()"
      ],
      "metadata": {
        "colab": {
          "base_uri": "https://localhost:8080/",
          "height": 368
        },
        "id": "D4RrROZjz9NZ",
        "outputId": "ef84f094-b89b-42c6-e523-1931e380fd18"
      },
      "execution_count": null,
      "outputs": [
        {
          "output_type": "display_data",
          "data": {
            "text/plain": [
              "<Figure size 1080x360 with 1 Axes>"
            ],
            "image/png": "[encoded data removed]"
          },
          "metadata": {
            "needs_background": "light"
          }
        }
      ]
    },
    {
      "cell_type": "code",
      "source": [
        "import warnings\n",
        "warnings.filterwarnings('ignore')\n",
        "\n",
        "plt.figure(figsize=(15,5))\n",
        "sns.countplot(y_test, palette = sns.color_palette())\n",
        "plt.xlabel(\"Classes\", fontsize = 20)\n",
        "plt.ylabel(\"Count\", fontsize = 20)\n",
        "plt.title(\"Images per Class for the Test Set\", fontsize=25)\n",
        "plt.show()"
      ],
      "metadata": {
        "colab": {
          "base_uri": "https://localhost:8080/",
          "height": 368
        },
        "id": "zR6uAeiQ33ek",
        "outputId": "10996a64-71b7-45cf-ea57-ee871e1a7599"
      },
      "execution_count": null,
      "outputs": [
        {
          "output_type": "display_data",
          "data": {
            "text/plain": [
              "<Figure size 1080x360 with 1 Axes>"
            ],
            "image/png": "[encoded data removed]"
          },
          "metadata": {
            "needs_background": "light"
          }
        }
      ]
    },
    {
      "cell_type": "markdown",
      "source": [
        "## Viewing the images"
      ],
      "metadata": {
        "id": "U_TZdS693g_m"
      }
    },
    {
      "cell_type": "markdown",
      "source": [
        "### Training images"
      ],
      "metadata": {
        "id": "actyP_4V4Da1"
      }
    },
    {
      "cell_type": "code",
      "source": [
        "fig, axes = plt.subplots(nrows=2, ncols=3, figsize=(12, 7),\n",
        "                        subplot_kw={'xticks': [], 'yticks': []})\n",
        "\n",
        "for i in range(6):\n",
        "    plt.subplot(2,3,i+1)\n",
        "    plt.imshow(X_train[i].squeeze(), cmap='gray')\n",
        "    plt.title('Train label:'+ str(y_train[i]))\n",
        "plt.show()"
      ],
      "metadata": {
        "colab": {
          "base_uri": "https://localhost:8080/",
          "height": 444
        },
        "id": "ch2oLXnO28mn",
        "outputId": "c2df8d78-d477-4bf9-956f-3e26c41ec505"
      },
      "execution_count": null,
      "outputs": [
        {
          "output_type": "display_data",
          "data": {
            "text/plain": [
              "<Figure size 864x504 with 6 Axes>"
            ],
            "image/png": "[encoded data removed]"
          },
          "metadata": {
            "needs_background": "light"
          }
        }
      ]
    },
    {
      "cell_type": "markdown",
      "source": [
        "### Test images"
      ],
      "metadata": {
        "id": "YSY_td0o7wSm"
      }
    },
    {
      "cell_type": "code",
      "source": [
        "fig, axes = plt.subplots(nrows=2, ncols=3, figsize=(12, 7),\n",
        "                        subplot_kw={'xticks': [], 'yticks': []})\n",
        "\n",
        "for i in range(6):\n",
        "    plt.subplot(2,3,i+1)\n",
        "    plt.imshow(X_test[i].squeeze(), cmap='gray')\n",
        "    plt.title('Test label:'+ str(y_train[i]))\n",
        "plt.show()"
      ],
      "metadata": {
        "colab": {
          "base_uri": "https://localhost:8080/",
          "height": 444
        },
        "id": "KiNxrPBF71Dp",
        "outputId": "4bd8c3fb-8007-42ae-c203-c882aeca61a7"
      },
      "execution_count": null,
      "outputs": [
        {
          "output_type": "display_data",
          "data": {
            "text/plain": [
              "<Figure size 864x504 with 6 Axes>"
            ],
            "image/png": "[encoded data removed]"
          },
          "metadata": {
            "needs_background": "light"
          }
        }
      ]
    },
    {
      "cell_type": "markdown",
      "source": [
        "## Label Binarizer (One-hot encoding)"
      ],
      "metadata": {
        "id": "oFgt_yyyb0pU"
      }
    },
    {
      "cell_type": "code",
      "source": [
        "from sklearn.preprocessing import LabelBinarizer\n",
        "label_binarizer = LabelBinarizer()\n",
        "y_train = label_binarizer.fit_transform(y_train)\n",
        "y_test = label_binarizer.fit_transform(y_test)"
      ],
      "metadata": {
        "id": "OSBFbIgDb1KP"
      },
      "execution_count": null,
      "outputs": []
    },
    {
      "cell_type": "code",
      "source": [
        "y_train[5]\n"
      ],
      "metadata": {
        "colab": {
          "base_uri": "https://localhost:8080/"
        },
        "id": "GIwJUCBjGl2u",
        "outputId": "4ac2cd34-f509-4438-9e87-19753b42f5e9"
      },
      "execution_count": null,
      "outputs": [
        {
          "output_type": "execute_result",
          "data": {
            "text/plain": [
              "array([0, 0, 0, 0, 0, 0, 0, 0, 0, 0, 0, 0, 0, 0, 0, 1, 0, 0, 0, 0, 0, 0,\n",
              "       0, 0])"
            ]
          },
          "metadata": {},
          "execution_count": 17
        }
      ]
    },
    {
      "cell_type": "markdown",
      "source": [
        "## Scaling the images"
      ],
      "metadata": {
        "id": "Dy-3wyUmtuXj"
      }
    },
    {
      "cell_type": "code",
      "source": [
        "X_train = X_train / 255.0\n",
        "X_test = X_test / 255.0"
      ],
      "metadata": {
        "id": "zonLSujrtrBg"
      },
      "execution_count": null,
      "outputs": []
    },
    {
      "cell_type": "markdown",
      "source": [
        "## Data augmentation"
      ],
      "metadata": {
        "id": "1k99zqL2KIdf"
      }
    },
    {
      "cell_type": "code",
      "source": [
        "from sklearn.model_selection import train_test_split\n",
        "X_train_1,  X_val, y_train_1, y_val = train_test_split(X_train, y_train, test_size = 0.25, random_state = 42, shuffle = True, stratify = y_train)"
      ],
      "metadata": {
        "id": "44wNptgMLr9H"
      },
      "execution_count": null,
      "outputs": []
    },
    {
      "cell_type": "code",
      "source": [
        "from keras.preprocessing.image import ImageDataGenerator\n",
        "import matplotlib.pyplot as plt\n",
        "from numpy import expand_dims\n",
        "from tensorflow.keras.utils import img_to_array\n",
        "\n",
        "datagen = ImageDataGenerator(\n",
        "        rotation_range=10,  # randomly rotate images \n",
        "        zoom_range = 0.1, # randomly zoom image \n",
        "        width_shift_range=0.1,  # randomly shift images horizontally \n",
        "        height_shift_range=0.1,  # randomly shift images vertically \n",
        "        ) \n",
        "\n",
        "data = img_to_array(X_train_1[2]*255)\n",
        "samples = expand_dims(data, 0)\n",
        "it = datagen.flow(samples, batch_size=1)\n",
        "\n",
        "# plotting the augmented images\n",
        "fig, ax = plt.subplots(figsize=(10, 10))\n",
        "for i in range(9):\n",
        "\tplt.subplot(330 + 1 + i)\n",
        "\tbatch = it.next() \n",
        "\timage = batch[0].astype('uint8')\n",
        "\tplt.imshow(image.squeeze(), cmap='gray')\n",
        "plt.show()\n",
        "\n",
        "datagen.fit(X_train_1)"
      ],
      "metadata": {
        "id": "WGNcEI1pKJIt",
        "colab": {
          "base_uri": "https://localhost:8080/",
          "height": 593
        },
        "outputId": "87dbeb57-93ae-40e9-cde2-4e35bb7d1500"
      },
      "execution_count": null,
      "outputs": [
        {
          "output_type": "display_data",
          "data": {
            "text/plain": [
              "<Figure size 720x720 with 9 Axes>"
            ],
            "image/png": "[encoded data removed]"
          },
          "metadata": {
            "needs_background": "light"
          }
        }
      ]
    },
    {
      "cell_type": "markdown",
      "source": [
        "## Building a CNN model"
      ],
      "metadata": {
        "id": "yWaoQ8sPPHvO"
      }
    },
    {
      "cell_type": "code",
      "source": [
        "def build_model(hp):  \n",
        "  model = keras.Sequential([\n",
        "    keras.layers.Conv2D(\n",
        "        filters=hp.Int('conv_1_filter', min_value=75, max_value=200, step=25),\n",
        "        kernel_size=(3,3),\n",
        "        activation='relu',\n",
        "        \n",
        "        input_shape=(28,28,1)\n",
        "    ),\n",
        "    keras.layers.BatchNormalization(),\n",
        "    keras.layers.MaxPool2D(pool_size=(2,2),strides=2,padding='same'),\n",
        "    keras.layers.Conv2D(\n",
        "        filters=hp.Int('conv_2_filter', min_value=50, max_value=125, step=25),\n",
        "        kernel_size=(3,3),\n",
        "        activation='relu',\n",
        "    ),\n",
        "    \n",
        "    keras.layers.Dropout(\n",
        "        rate = hp.Choice('drop_1_rate', values = [0.1,0.5])\n",
        "    ),\n",
        "    keras.layers.BatchNormalization(),\n",
        "    keras.layers.MaxPool2D(pool_size=(2,2),strides=2,padding='same'),\n",
        "    \n",
        "    \n",
        "    keras.layers.Conv2D(\n",
        "        filters=hp.Int('conv_3_filter', min_value=25, max_value=75, step=25),\n",
        "        kernel_size=(3,3),\n",
        "        activation='relu',\n",
        "    ),\n",
        "    keras.layers.BatchNormalization(),\n",
        "    keras.layers.MaxPool2D(pool_size=(2,2),strides=2,padding='same'),  \n",
        "    keras.layers.Flatten(),\n",
        "    keras.layers.Dense(\n",
        "        units=hp.Int('dense_1_units', min_value=128, max_value=1024, step=32),\n",
        "        activation='relu'\n",
        "    ),\n",
        "    keras.layers.Dropout(\n",
        "        rate = hp.Choice('drop_2_rate', values = [0.1,0.3])\n",
        "    ),\n",
        "    keras.layers.Dense(24, activation='softmax')\n",
        "  ])\n",
        "  \n",
        "  model.compile(optimizer=keras.optimizers.Adam(hp.Choice('learning_rate', values=[1e-2, 1e-3])),\n",
        "              loss='categorical_crossentropy',\n",
        "              metrics=['accuracy'])\n",
        "  \n",
        "  return model"
      ],
      "metadata": {
        "id": "Dg-XCP5YPK-D"
      },
      "execution_count": null,
      "outputs": []
    },
    {
      "cell_type": "markdown",
      "source": [
        "### Installing keras-tuner"
      ],
      "metadata": {
        "id": "NeJQADAD2jNv"
      }
    },
    {
      "cell_type": "code",
      "source": [
        "pip install keras-tuner"
      ],
      "metadata": {
        "colab": {
          "base_uri": "https://localhost:8080/"
        },
        "id": "8_ekrZPEYceE",
        "outputId": "7b96fe63-cdbf-4f99-c4cf-dee629bfd742"
      },
      "execution_count": null,
      "outputs": [
        {
          "output_type": "stream",
          "name": "stdout",
          "text": [
            "Looking in indexes: https://pypi.org/simple, https://us-python.pkg.dev/colab-wheels/public/simple/\n",
            "Collecting keras-tuner\n",
            "  Downloading keras_tuner-1.1.3-py3-none-any.whl (135 kB)\n",
            "\u001b[K     |████████████████████████████████| 135 kB 4.5 MB/s \n",
            "\u001b[?25hRequirement already satisfied: packaging in /usr/local/lib/python3.7/dist-packages (from keras-tuner) (21.3)\n",
            "Collecting kt-legacy\n",
            "  Downloading kt_legacy-1.0.4-py3-none-any.whl (9.6 kB)\n",
            "Requirement already satisfied: requests in /usr/local/lib/python3.7/dist-packages (from keras-tuner) (2.23.0)\n",
            "Requirement already satisfied: tensorboard in /usr/local/lib/python3.7/dist-packages (from keras-tuner) (2.9.1)\n",
            "Requirement already satisfied: numpy in /usr/local/lib/python3.7/dist-packages (from keras-tuner) (1.21.6)\n",
            "Requirement already satisfied: ipython in /usr/local/lib/python3.7/dist-packages (from keras-tuner) (7.9.0)\n",
            "Requirement already satisfied: pexpect in /usr/local/lib/python3.7/dist-packages (from ipython->keras-tuner) (4.8.0)\n",
            "Requirement already satisfied: decorator in /usr/local/lib/python3.7/dist-packages (from ipython->keras-tuner) (4.4.2)\n",
            "Requirement already satisfied: pickleshare in /usr/local/lib/python3.7/dist-packages (from ipython->keras-tuner) (0.7.5)\n",
            "Requirement already satisfied: prompt-toolkit<2.1.0,>=2.0.0 in /usr/local/lib/python3.7/dist-packages (from ipython->keras-tuner) (2.0.10)\n",
            "Requirement already satisfied: pygments in /usr/local/lib/python3.7/dist-packages (from ipython->keras-tuner) (2.6.1)\n",
            "Requirement already satisfied: backcall in /usr/local/lib/python3.7/dist-packages (from ipython->keras-tuner) (0.2.0)\n",
            "Collecting jedi>=0.10\n",
            "  Downloading jedi-0.18.2-py2.py3-none-any.whl (1.6 MB)\n",
            "\u001b[K     |████████████████████████████████| 1.6 MB 32.0 MB/s \n",
            "\u001b[?25hRequirement already satisfied: setuptools>=18.5 in /usr/local/lib/python3.7/dist-packages (from ipython->keras-tuner) (57.4.0)\n",
            "Requirement already satisfied: traitlets>=4.2 in /usr/local/lib/python3.7/dist-packages (from ipython->keras-tuner) (5.1.1)\n",
            "Requirement already satisfied: parso<0.9.0,>=0.8.0 in /usr/local/lib/python3.7/dist-packages (from jedi>=0.10->ipython->keras-tuner) (0.8.3)\n",
            "Requirement already satisfied: wcwidth in /usr/local/lib/python3.7/dist-packages (from prompt-toolkit<2.1.0,>=2.0.0->ipython->keras-tuner) (0.2.5)\n",
            "Requirement already satisfied: six>=1.9.0 in /usr/local/lib/python3.7/dist-packages (from prompt-toolkit<2.1.0,>=2.0.0->ipython->keras-tuner) (1.15.0)\n",
            "Requirement already satisfied: pyparsing!=3.0.5,>=2.0.2 in /usr/local/lib/python3.7/dist-packages (from packaging->keras-tuner) (3.0.9)\n",
            "Requirement already satisfied: ptyprocess>=0.5 in /usr/local/lib/python3.7/dist-packages (from pexpect->ipython->keras-tuner) (0.7.0)\n",
            "Requirement already satisfied: chardet<4,>=3.0.2 in /usr/local/lib/python3.7/dist-packages (from requests->keras-tuner) (3.0.4)\n",
            "Requirement already satisfied: urllib3!=1.25.0,!=1.25.1,<1.26,>=1.21.1 in /usr/local/lib/python3.7/dist-packages (from requests->keras-tuner) (1.24.3)\n",
            "Requirement already satisfied: certifi>=2017.4.17 in /usr/local/lib/python3.7/dist-packages (from requests->keras-tuner) (2022.9.24)\n",
            "Requirement already satisfied: idna<3,>=2.5 in /usr/local/lib/python3.7/dist-packages (from requests->keras-tuner) (2.10)\n",
            "Requirement already satisfied: grpcio>=1.24.3 in /usr/local/lib/python3.7/dist-packages (from tensorboard->keras-tuner) (1.50.0)\n",
            "Requirement already satisfied: tensorboard-data-server<0.7.0,>=0.6.0 in /usr/local/lib/python3.7/dist-packages (from tensorboard->keras-tuner) (0.6.1)\n",
            "Requirement already satisfied: tensorboard-plugin-wit>=1.6.0 in /usr/local/lib/python3.7/dist-packages (from tensorboard->keras-tuner) (1.8.1)\n",
            "Requirement already satisfied: protobuf<3.20,>=3.9.2 in /usr/local/lib/python3.7/dist-packages (from tensorboard->keras-tuner) (3.19.6)\n",
            "Requirement already satisfied: markdown>=2.6.8 in /usr/local/lib/python3.7/dist-packages (from tensorboard->keras-tuner) (3.4.1)\n",
            "Requirement already satisfied: werkzeug>=1.0.1 in /usr/local/lib/python3.7/dist-packages (from tensorboard->keras-tuner) (1.0.1)\n",
            "Requirement already satisfied: google-auth-oauthlib<0.5,>=0.4.1 in /usr/local/lib/python3.7/dist-packages (from tensorboard->keras-tuner) (0.4.6)\n",
            "Requirement already satisfied: wheel>=0.26 in /usr/local/lib/python3.7/dist-packages (from tensorboard->keras-tuner) (0.38.4)\n",
            "Requirement already satisfied: google-auth<3,>=1.6.3 in /usr/local/lib/python3.7/dist-packages (from tensorboard->keras-tuner) (2.14.1)\n",
            "Requirement already satisfied: absl-py>=0.4 in /usr/local/lib/python3.7/dist-packages (from tensorboard->keras-tuner) (1.3.0)\n",
            "Requirement already satisfied: cachetools<6.0,>=2.0.0 in /usr/local/lib/python3.7/dist-packages (from google-auth<3,>=1.6.3->tensorboard->keras-tuner) (5.2.0)\n",
            "Requirement already satisfied: rsa<5,>=3.1.4 in /usr/local/lib/python3.7/dist-packages (from google-auth<3,>=1.6.3->tensorboard->keras-tuner) (4.9)\n",
            "Requirement already satisfied: pyasn1-modules>=0.2.1 in /usr/local/lib/python3.7/dist-packages (from google-auth<3,>=1.6.3->tensorboard->keras-tuner) (0.2.8)\n",
            "Requirement already satisfied: requests-oauthlib>=0.7.0 in /usr/local/lib/python3.7/dist-packages (from google-auth-oauthlib<0.5,>=0.4.1->tensorboard->keras-tuner) (1.3.1)\n",
            "Requirement already satisfied: importlib-metadata>=4.4 in /usr/local/lib/python3.7/dist-packages (from markdown>=2.6.8->tensorboard->keras-tuner) (4.13.0)\n",
            "Requirement already satisfied: typing-extensions>=3.6.4 in /usr/local/lib/python3.7/dist-packages (from importlib-metadata>=4.4->markdown>=2.6.8->tensorboard->keras-tuner) (4.1.1)\n",
            "Requirement already satisfied: zipp>=0.5 in /usr/local/lib/python3.7/dist-packages (from importlib-metadata>=4.4->markdown>=2.6.8->tensorboard->keras-tuner) (3.10.0)\n",
            "Requirement already satisfied: pyasn1<0.5.0,>=0.4.6 in /usr/local/lib/python3.7/dist-packages (from pyasn1-modules>=0.2.1->google-auth<3,>=1.6.3->tensorboard->keras-tuner) (0.4.8)\n",
            "Requirement already satisfied: oauthlib>=3.0.0 in /usr/local/lib/python3.7/dist-packages (from requests-oauthlib>=0.7.0->google-auth-oauthlib<0.5,>=0.4.1->tensorboard->keras-tuner) (3.2.2)\n",
            "Installing collected packages: jedi, kt-legacy, keras-tuner\n",
            "Successfully installed jedi-0.18.2 keras-tuner-1.1.3 kt-legacy-1.0.4\n"
          ]
        }
      ]
    },
    {
      "cell_type": "markdown",
      "source": [
        "## Applying Random Search optimization"
      ],
      "metadata": {
        "id": "Dqo6I9CS2pnG"
      }
    },
    {
      "cell_type": "code",
      "source": [
        "from kerastuner import RandomSearch\n",
        "tuner_search=RandomSearch(build_model,\n",
        "                          objective='val_accuracy',\n",
        "                          max_trials=5,directory='output',project_name=\"SignLanguageDetection\")"
      ],
      "metadata": {
        "id": "m5JIzzEle1PM"
      },
      "execution_count": null,
      "outputs": []
    },
    {
      "cell_type": "code",
      "source": [
        "import random\n",
        "import numpy as np\n",
        "np.random.seed(123)\n",
        "random.seed(123)\n",
        "tf.random.set_seed(20)\n",
        "\n",
        "tuner_search.search(X_train_1,y_train_1,epochs=5,validation_data = (X_val, y_val))"
      ],
      "metadata": {
        "colab": {
          "base_uri": "https://localhost:8080/"
        },
        "id": "vE9MuUcrjU-D",
        "outputId": "890baef0-6889-4ed4-bc64-9cbf446f6d04"
      },
      "execution_count": null,
      "outputs": [
        {
          "output_type": "stream",
          "name": "stdout",
          "text": [
            "Trial 5 Complete [00h 00m 25s]\n",
            "val_accuracy: 0.9803321957588196\n",
            "\n",
            "Best val_accuracy So Far: 1.0\n",
            "Total elapsed time: 00h 02m 51s\n"
          ]
        }
      ]
    },
    {
      "cell_type": "code",
      "source": [
        "tuner_search.search_space_summary()"
      ],
      "metadata": {
        "colab": {
          "base_uri": "https://localhost:8080/"
        },
        "id": "HPKOXjDMkmvU",
        "outputId": "fb97ab0b-4e17-4ce3-d7d5-eb8123cdefc3"
      },
      "execution_count": null,
      "outputs": [
        {
          "output_type": "stream",
          "name": "stdout",
          "text": [
            "Search space summary\n",
            "Default search space size: 7\n",
            "conv_1_filter (Int)\n",
            "{'default': None, 'conditions': [], 'min_value': 75, 'max_value': 200, 'step': 25, 'sampling': None}\n",
            "conv_2_filter (Int)\n",
            "{'default': None, 'conditions': [], 'min_value': 50, 'max_value': 125, 'step': 25, 'sampling': None}\n",
            "drop_1_rate (Choice)\n",
            "{'default': 0.1, 'conditions': [], 'values': [0.1, 0.5], 'ordered': True}\n",
            "conv_3_filter (Int)\n",
            "{'default': None, 'conditions': [], 'min_value': 25, 'max_value': 75, 'step': 25, 'sampling': None}\n",
            "dense_1_units (Int)\n",
            "{'default': None, 'conditions': [], 'min_value': 128, 'max_value': 1024, 'step': 32, 'sampling': None}\n",
            "drop_2_rate (Choice)\n",
            "{'default': 0.1, 'conditions': [], 'values': [0.1, 0.3], 'ordered': True}\n",
            "learning_rate (Choice)\n",
            "{'default': 0.01, 'conditions': [], 'values': [0.01, 0.001], 'ordered': True}\n"
          ]
        }
      ]
    },
    {
      "cell_type": "code",
      "source": [
        "model = tuner_search.get_best_models(num_models = 1)[0]\n",
        "model"
      ],
      "metadata": {
        "colab": {
          "base_uri": "https://localhost:8080/"
        },
        "id": "WoUDz6Iyl0TO",
        "outputId": "9eba40bf-42f0-4b9e-d53f-f2c1e4b01434"
      },
      "execution_count": null,
      "outputs": [
        {
          "output_type": "execute_result",
          "data": {
            "text/plain": [
              "<keras.engine.sequential.Sequential at 0x7f70e2525210>"
            ]
          },
          "metadata": {},
          "execution_count": 64
        }
      ]
    },
    {
      "cell_type": "code",
      "source": [
        "tuner_search.results_summary()"
      ],
      "metadata": {
        "colab": {
          "base_uri": "https://localhost:8080/"
        },
        "id": "iVIvS2vSmp5r",
        "outputId": "c42c22c3-655d-476a-e587-935ea1cfa3c0"
      },
      "execution_count": null,
      "outputs": [
        {
          "output_type": "stream",
          "name": "stdout",
          "text": [
            "Results summary\n",
            "Results in output/SignLanguageDetection\n",
            "Showing 10 best trials\n",
            "<keras_tuner.engine.objective.Objective object at 0x7f70e255f510>\n",
            "Trial summary\n",
            "Hyperparameters:\n",
            "conv_1_filter: 100\n",
            "conv_2_filter: 75\n",
            "drop_1_rate: 0.1\n",
            "conv_3_filter: 50\n",
            "dense_1_units: 768\n",
            "drop_2_rate: 0.3\n",
            "learning_rate: 0.001\n",
            "Score: 1.0\n",
            "Trial summary\n",
            "Hyperparameters:\n",
            "conv_1_filter: 125\n",
            "conv_2_filter: 100\n",
            "drop_1_rate: 0.5\n",
            "conv_3_filter: 50\n",
            "dense_1_units: 320\n",
            "drop_2_rate: 0.3\n",
            "learning_rate: 0.01\n",
            "Score: 0.9855769276618958\n",
            "Trial summary\n",
            "Hyperparameters:\n",
            "conv_1_filter: 100\n",
            "conv_2_filter: 50\n",
            "drop_1_rate: 0.5\n",
            "conv_3_filter: 50\n",
            "dense_1_units: 864\n",
            "drop_2_rate: 0.3\n",
            "learning_rate: 0.01\n",
            "Score: 0.9803321957588196\n",
            "Trial summary\n",
            "Hyperparameters:\n",
            "conv_1_filter: 175\n",
            "conv_2_filter: 75\n",
            "drop_1_rate: 0.1\n",
            "conv_3_filter: 25\n",
            "dense_1_units: 480\n",
            "drop_2_rate: 0.3\n",
            "learning_rate: 0.01\n",
            "Score: 0.9733391404151917\n",
            "Trial summary\n",
            "Hyperparameters:\n",
            "conv_1_filter: 150\n",
            "conv_2_filter: 100\n",
            "drop_1_rate: 0.5\n",
            "conv_3_filter: 25\n",
            "dense_1_units: 608\n",
            "drop_2_rate: 0.3\n",
            "learning_rate: 0.001\n",
            "Score: 0.9526515007019043\n"
          ]
        }
      ]
    },
    {
      "cell_type": "markdown",
      "source": [
        "## Introducing the callback, which reduces the learning rate after 3 epochs if it is not changing"
      ],
      "metadata": {
        "id": "u-GR6Cb12vZi"
      }
    },
    {
      "cell_type": "code",
      "source": [
        "from keras.callbacks import ReduceLROnPlateau\n",
        "lr_reduction = ReduceLROnPlateau(monitor='val_accuracy', patience = 3, verbose=1,factor=0.5, min_lr=0.00001)"
      ],
      "metadata": {
        "id": "f4DR5m4Nnibh"
      },
      "execution_count": null,
      "outputs": []
    },
    {
      "cell_type": "markdown",
      "source": [
        "## Training the model with the best parameters"
      ],
      "metadata": {
        "id": "XnccbdnS27DS"
      }
    },
    {
      "cell_type": "code",
      "source": [
        "import random\n",
        "import numpy as np\n",
        "np.random.seed(123)\n",
        "random.seed(123)\n",
        "tf.random.set_seed(20)\n",
        "\n",
        "history = model.fit(datagen.flow(X_train,y_train, batch_size = 128) \n",
        "                    ,epochs = 20\n",
        "                    , validation_data = (X_test, y_test)\n",
        "                    , callbacks = [lr_reduction])"
      ],
      "metadata": {
        "colab": {
          "base_uri": "https://localhost:8080/"
        },
        "id": "olF5nyjynigf",
        "outputId": "bda62e17-bd22-4196-c24d-8064f1dd1804"
      },
      "execution_count": null,
      "outputs": [
        {
          "output_type": "stream",
          "name": "stdout",
          "text": [
            "Epoch 1/20\n",
            "215/215 [==============================] - 11s 49ms/step - loss: 0.1994 - accuracy: 0.9412 - val_loss: 0.1208 - val_accuracy: 0.9573 - lr: 0.0010\n",
            "Epoch 2/20\n",
            "215/215 [==============================] - 10s 48ms/step - loss: 0.0538 - accuracy: 0.9826 - val_loss: 0.1506 - val_accuracy: 0.9552 - lr: 0.0010\n",
            "Epoch 3/20\n",
            "215/215 [==============================] - 10s 48ms/step - loss: 0.0286 - accuracy: 0.9912 - val_loss: 0.0722 - val_accuracy: 0.9808 - lr: 0.0010\n",
            "Epoch 4/20\n",
            "215/215 [==============================] - 11s 50ms/step - loss: 0.0242 - accuracy: 0.9920 - val_loss: 0.0118 - val_accuracy: 0.9954 - lr: 0.0010\n",
            "Epoch 5/20\n",
            "215/215 [==============================] - 11s 50ms/step - loss: 0.0165 - accuracy: 0.9949 - val_loss: 0.0090 - val_accuracy: 0.9978 - lr: 0.0010\n",
            "Epoch 6/20\n",
            "215/215 [==============================] - 10s 47ms/step - loss: 0.0156 - accuracy: 0.9949 - val_loss: 0.0837 - val_accuracy: 0.9735 - lr: 0.0010\n",
            "Epoch 7/20\n",
            "215/215 [==============================] - 11s 49ms/step - loss: 0.0154 - accuracy: 0.9952 - val_loss: 1.5064 - val_accuracy: 0.7634 - lr: 0.0010\n",
            "Epoch 8/20\n",
            "214/215 [============================>.] - ETA: 0s - loss: 0.0184 - accuracy: 0.9937\n",
            "Epoch 8: ReduceLROnPlateau reducing learning rate to 0.0005000000237487257.\n",
            "215/215 [==============================] - 11s 49ms/step - loss: 0.0184 - accuracy: 0.9937 - val_loss: 0.1313 - val_accuracy: 0.9511 - lr: 0.0010\n",
            "Epoch 9/20\n",
            "215/215 [==============================] - 10s 48ms/step - loss: 0.0074 - accuracy: 0.9980 - val_loss: 0.0012 - val_accuracy: 0.9999 - lr: 5.0000e-04\n",
            "Epoch 10/20\n",
            "215/215 [==============================] - 10s 44ms/step - loss: 0.0057 - accuracy: 0.9984 - val_loss: 0.0040 - val_accuracy: 0.9987 - lr: 5.0000e-04\n",
            "Epoch 11/20\n",
            "215/215 [==============================] - 10s 47ms/step - loss: 0.0042 - accuracy: 0.9990 - val_loss: 8.6178e-04 - val_accuracy: 1.0000 - lr: 5.0000e-04\n",
            "Epoch 12/20\n",
            "215/215 [==============================] - 10s 47ms/step - loss: 0.0030 - accuracy: 0.9992 - val_loss: 9.3039e-04 - val_accuracy: 1.0000 - lr: 5.0000e-04\n",
            "Epoch 13/20\n",
            "215/215 [==============================] - 10s 45ms/step - loss: 0.0034 - accuracy: 0.9991 - val_loss: 0.0157 - val_accuracy: 0.9941 - lr: 5.0000e-04\n",
            "Epoch 14/20\n",
            "215/215 [==============================] - ETA: 0s - loss: 0.0050 - accuracy: 0.9982\n",
            "Epoch 14: ReduceLROnPlateau reducing learning rate to 0.0002500000118743628.\n",
            "215/215 [==============================] - 10s 47ms/step - loss: 0.0050 - accuracy: 0.9982 - val_loss: 0.0854 - val_accuracy: 0.9781 - lr: 5.0000e-04\n",
            "Epoch 15/20\n",
            "215/215 [==============================] - 10s 48ms/step - loss: 0.0025 - accuracy: 0.9994 - val_loss: 0.0086 - val_accuracy: 0.9962 - lr: 2.5000e-04\n",
            "Epoch 16/20\n",
            "215/215 [==============================] - 10s 48ms/step - loss: 0.0024 - accuracy: 0.9992 - val_loss: 0.0027 - val_accuracy: 0.9986 - lr: 2.5000e-04\n",
            "Epoch 17/20\n",
            "214/215 [============================>.] - ETA: 0s - loss: 0.0027 - accuracy: 0.9994\n",
            "Epoch 17: ReduceLROnPlateau reducing learning rate to 0.0001250000059371814.\n",
            "215/215 [==============================] - 10s 48ms/step - loss: 0.0027 - accuracy: 0.9994 - val_loss: 4.3001e-04 - val_accuracy: 1.0000 - lr: 2.5000e-04\n",
            "Epoch 18/20\n",
            "215/215 [==============================] - 10s 45ms/step - loss: 0.0019 - accuracy: 0.9995 - val_loss: 7.2388e-05 - val_accuracy: 1.0000 - lr: 1.2500e-04\n",
            "Epoch 19/20\n",
            "215/215 [==============================] - 10s 45ms/step - loss: 0.0017 - accuracy: 0.9995 - val_loss: 6.0846e-05 - val_accuracy: 1.0000 - lr: 1.2500e-04\n",
            "Epoch 20/20\n",
            "215/215 [==============================] - ETA: 0s - loss: 0.0015 - accuracy: 0.9997\n",
            "Epoch 20: ReduceLROnPlateau reducing learning rate to 6.25000029685907e-05.\n",
            "215/215 [==============================] - 10s 48ms/step - loss: 0.0015 - accuracy: 0.9997 - val_loss: 2.0191e-04 - val_accuracy: 1.0000 - lr: 1.2500e-04\n"
          ]
        }
      ]
    },
    {
      "cell_type": "code",
      "source": [
        "model.summary()"
      ],
      "metadata": {
        "colab": {
          "base_uri": "https://localhost:8080/"
        },
        "id": "0c15e3a9pVys",
        "outputId": "0f521bb4-4f81-41aa-f047-810f0ecb8179"
      },
      "execution_count": null,
      "outputs": [
        {
          "output_type": "stream",
          "name": "stdout",
          "text": [
            "Model: \"sequential\"\n",
            "_________________________________________________________________\n",
            " Layer (type)                Output Shape              Param #   \n",
            "=================================================================\n",
            " conv2d (Conv2D)             (None, 26, 26, 100)       1000      \n",
            "                                                                 \n",
            " batch_normalization (BatchN  (None, 26, 26, 100)      400       \n",
            " ormalization)                                                   \n",
            "                                                                 \n",
            " max_pooling2d (MaxPooling2D  (None, 13, 13, 100)      0         \n",
            " )                                                               \n",
            "                                                                 \n",
            " conv2d_1 (Conv2D)           (None, 11, 11, 75)        67575     \n",
            "                                                                 \n",
            " dropout (Dropout)           (None, 11, 11, 75)        0         \n",
            "                                                                 \n",
            " batch_normalization_1 (Batc  (None, 11, 11, 75)       300       \n",
            " hNormalization)                                                 \n",
            "                                                                 \n",
            " max_pooling2d_1 (MaxPooling  (None, 6, 6, 75)         0         \n",
            " 2D)                                                             \n",
            "                                                                 \n",
            " conv2d_2 (Conv2D)           (None, 4, 4, 50)          33800     \n",
            "                                                                 \n",
            " batch_normalization_2 (Batc  (None, 4, 4, 50)         200       \n",
            " hNormalization)                                                 \n",
            "                                                                 \n",
            " max_pooling2d_2 (MaxPooling  (None, 2, 2, 50)         0         \n",
            " 2D)                                                             \n",
            "                                                                 \n",
            " flatten (Flatten)           (None, 200)               0         \n",
            "                                                                 \n",
            " dense (Dense)               (None, 768)               154368    \n",
            "                                                                 \n",
            " dropout_1 (Dropout)         (None, 768)               0         \n",
            "                                                                 \n",
            " dense_1 (Dense)             (None, 24)                18456     \n",
            "                                                                 \n",
            "=================================================================\n",
            "Total params: 276,099\n",
            "Trainable params: 275,649\n",
            "Non-trainable params: 450\n",
            "_________________________________________________________________\n"
          ]
        }
      ]
    },
    {
      "cell_type": "code",
      "source": [
        "tf.keras.utils.plot_model(\n",
        "    model,\n",
        "    to_file=\"model.png\",\n",
        "    show_shapes=False,\n",
        "    show_dtype=False,\n",
        "    show_layer_names=True,\n",
        "    rankdir=\"TB\",\n",
        "    expand_nested=False,\n",
        "    dpi=96,\n",
        ")"
      ],
      "metadata": {
        "colab": {
          "base_uri": "https://localhost:8080/",
          "height": 1000
        },
        "id": "IJc7u4KR7HBH",
        "outputId": "b223cd53-28cd-46ca-e37c-d3e5b1e3ef99"
      },
      "execution_count": null,
      "outputs": [
        {
          "output_type": "execute_result",
          "data": {
            "image/png": "[encoded data removed]",
            "text/plain": [
              "<IPython.core.display.Image object>"
            ]
          },
          "metadata": {},
          "execution_count": 69
        }
      ]
    },
    {
      "cell_type": "code",
      "source": [
        "y_predicted = model.predict(X_test)"
      ],
      "metadata": {
        "colab": {
          "base_uri": "https://localhost:8080/"
        },
        "id": "ZR0NkiNY7pl9",
        "outputId": "12ff0b57-8152-4024-e65e-fe6f6102e144"
      },
      "execution_count": null,
      "outputs": [
        {
          "output_type": "stream",
          "name": "stdout",
          "text": [
            "225/225 [==============================] - 1s 2ms/step\n"
          ]
        }
      ]
    },
    {
      "cell_type": "markdown",
      "source": [
        "## Train and Test accuracy/loss graphs\n"
      ],
      "metadata": {
        "id": "6_TD_hQgdZH1"
      }
    },
    {
      "cell_type": "code",
      "source": [
        "epochs = [i for i in range(20)]\n",
        "fig , ax = plt.subplots(1,2)\n",
        "train_acc = history.history['accuracy']\n",
        "train_loss = history.history['loss']\n",
        "val_acc = history.history['val_accuracy']\n",
        "val_loss = history.history['val_loss']\n",
        "fig.set_size_inches(16,9)\n",
        "\n",
        "ax[0].plot(epochs , train_acc , 'go-' , label = 'Training Accuracy')\n",
        "ax[0].plot(epochs , val_acc , 'ro-' , label = 'Test Accuracy')\n",
        "ax[0].legend()\n",
        "ax[0].set_xlabel(\"Epochs\")\n",
        "ax[0].set_ylabel(\"Accuracy\")\n",
        "\n",
        "ax[1].plot(epochs , train_loss , 'g-o' , label = 'Training Loss')\n",
        "ax[1].plot(epochs , val_loss , 'r-o' , label = 'Test Loss')\n",
        "ax[1].legend()\n",
        "ax[1].set_xlabel(\"Epochs\")\n",
        "ax[1].set_ylabel(\"Loss\")\n",
        "plt.show()"
      ],
      "metadata": {
        "colab": {
          "base_uri": "https://localhost:8080/",
          "height": 551
        },
        "id": "b3ZM2-1OdYQF",
        "outputId": "bf80559b-58d1-4dcc-cd01-67afa76680aa"
      },
      "execution_count": null,
      "outputs": [
        {
          "output_type": "display_data",
          "data": {
            "text/plain": [
              "<Figure size 1152x648 with 2 Axes>"
            ],
            "image/png": "[encoded data removed]"
          },
          "metadata": {
            "needs_background": "light"
          }
        }
      ]
    },
    {
      "cell_type": "code",
      "source": [
        "import numpy as np\n",
        "def predictions_to_labels(pred):\n",
        "    labels =[]\n",
        "    for p in pred:\n",
        "        labels.append(unique_labels[np.argmax(p)])\n",
        "    return labels"
      ],
      "metadata": {
        "id": "Z5STc5PB70Ad"
      },
      "execution_count": null,
      "outputs": []
    },
    {
      "cell_type": "code",
      "source": [
        "y_pred_labels = predictions_to_labels(y_predicted)\n",
        "y_test_labels = predictions_to_labels(y_test)"
      ],
      "metadata": {
        "id": "HbaKsn6V71oV"
      },
      "execution_count": null,
      "outputs": []
    },
    {
      "cell_type": "code",
      "source": [
        "from sklearn.metrics import accuracy_score,confusion_matrix\n",
        "accuracy_score(y_test_labels,y_pred_labels)"
      ],
      "metadata": {
        "colab": {
          "base_uri": "https://localhost:8080/"
        },
        "id": "lzoBTjni8qKN",
        "outputId": "b088a80f-354a-4d1f-d610-58ba79da0c1e"
      },
      "execution_count": null,
      "outputs": [
        {
          "output_type": "execute_result",
          "data": {
            "text/plain": [
              "1.0"
            ]
          },
          "metadata": {},
          "execution_count": 74
        }
      ]
    },
    {
      "cell_type": "markdown",
      "source": [
        "## Confusion Matrix\n",
        "\n",
        "\n"
      ],
      "metadata": {
        "id": "vLR7Cm5wkdZN"
      }
    },
    {
      "cell_type": "code",
      "source": [
        "cm= confusion_matrix(y_test_labels, y_pred_labels)\n",
        "plt.figure(figsize=(20,20))\n",
        "sns.heatmap(cm,annot=True,cmap='twilight_shifted')"
      ],
      "metadata": {
        "id": "JhSBVfZwi7E9",
        "colab": {
          "base_uri": "https://localhost:8080/",
          "height": 1000
        },
        "outputId": "3828a410-6cb9-468f-f3fd-3eda2e356f54"
      },
      "execution_count": null,
      "outputs": [
        {
          "output_type": "execute_result",
          "data": {
            "text/plain": [
              "<matplotlib.axes._subplots.AxesSubplot at 0x7f70e16a58d0>"
            ]
          },
          "metadata": {},
          "execution_count": 75
        },
        {
          "output_type": "display_data",
          "data": {
            "text/plain": [
              "<Figure size 1440x1440 with 2 Axes>"
            ],
            "image/png": "[encoded data removed]"
          },
          "metadata": {
            "needs_background": "light"
          }
        }
      ]
    },
    {
      "cell_type": "markdown",
      "source": [
        "## Classification report"
      ],
      "metadata": {
        "id": "0VnZk6OTknwt"
      }
    },
    {
      "cell_type": "code",
      "source": [
        "from sklearn.metrics import accuracy_score, recall_score, precision_score, f1_score, roc_auc_score, classification_report\n",
        "print(classification_report(y_test_labels, y_pred_labels))\n",
        "print(\"Macro Average Recall = {:.3f}\".format(recall_score(y_test_labels, y_pred_labels, average='macro')))\n",
        "print(\"Macro Average Precision = {:.3f}\".format(precision_score(y_test_labels, y_pred_labels, average='macro')))\n",
        "print(\"Macro Average F1 score = {:.3f}\".format(f1_score(y_test_labels, y_pred_labels, average='macro')))\n",
        "print(\"Macro Average ROC AUC = {:.3f}\".format(roc_auc_score(y_test, y_predicted, multi_class='ovr', average='macro')))"
      ],
      "metadata": {
        "colab": {
          "base_uri": "https://localhost:8080/"
        },
        "id": "b-hbDZAbjz8M",
        "outputId": "a7a99d0e-db72-4fca-fd3d-8f7b1c49bc33"
      },
      "execution_count": null,
      "outputs": [
        {
          "output_type": "stream",
          "name": "stdout",
          "text": [
            "              precision    recall  f1-score   support\n",
            "\n",
            "           0       1.00      1.00      1.00       331\n",
            "           1       1.00      1.00      1.00       432\n",
            "           2       1.00      1.00      1.00       310\n",
            "           3       1.00      1.00      1.00       245\n",
            "           4       1.00      1.00      1.00       498\n",
            "           5       1.00      1.00      1.00       247\n",
            "           6       1.00      1.00      1.00       348\n",
            "           7       1.00      1.00      1.00       436\n",
            "           8       1.00      1.00      1.00       288\n",
            "          10       1.00      1.00      1.00       331\n",
            "          11       1.00      1.00      1.00       209\n",
            "          12       1.00      1.00      1.00       394\n",
            "          13       1.00      1.00      1.00       291\n",
            "          14       1.00      1.00      1.00       246\n",
            "          15       1.00      1.00      1.00       347\n",
            "          16       1.00      1.00      1.00       164\n",
            "          17       1.00      1.00      1.00       144\n",
            "          18       1.00      1.00      1.00       246\n",
            "          19       1.00      1.00      1.00       248\n",
            "          20       1.00      1.00      1.00       266\n",
            "          21       1.00      1.00      1.00       346\n",
            "          22       1.00      1.00      1.00       206\n",
            "          23       1.00      1.00      1.00       267\n",
            "          24       1.00      1.00      1.00       332\n",
            "\n",
            "    accuracy                           1.00      7172\n",
            "   macro avg       1.00      1.00      1.00      7172\n",
            "weighted avg       1.00      1.00      1.00      7172\n",
            "\n",
            "Macro Average Recall = 1.000\n",
            "Macro Average Precision = 1.000\n",
            "Macro Average F1 score = 1.000\n",
            "Macro Average ROC AUC = 1.000\n"
          ]
        }
      ]
    },
    {
      "cell_type": "markdown",
      "source": [
        "## Machine Learning (ML) Methods"
      ],
      "metadata": {
        "id": "WIClZHqSieGX"
      }
    },
    {
      "cell_type": "code",
      "source": [
        "from sklearn.metrics import confusion_matrix\n",
        "from sklearn.metrics import classification_report\n",
        "from sklearn.neighbors import KNeighborsClassifier as KNN \n",
        "from sklearn.metrics import accuracy_score\n",
        "from sklearn.model_selection import GridSearchCV\n",
        "from sklearn.linear_model import LogisticRegression as LRR\n",
        "from sklearn.ensemble import RandomForestClassifier "
      ],
      "metadata": {
        "id": "2v_Lb8_XlQN1"
      },
      "execution_count": null,
      "outputs": []
    },
    {
      "cell_type": "code",
      "source": [
        "X_train = train_set.drop(labels = ['label'], axis=1)\n",
        "y_train = train_set['label']\n",
        "X_test = test_set.drop(labels = ['label'], axis = 1)\n",
        "y_test = test_set['label']\n",
        "X_train = X_train/255.0\n",
        "X_test = X_test/255.0\n",
        "X_train_1,  X_val, y_train_1, y_val = train_test_split(X_train, y_train, test_size = 0.25, random_state = 42, shuffle = True, stratify = y_train)"
      ],
      "metadata": {
        "id": "FKilLJgIl_Kj"
      },
      "execution_count": null,
      "outputs": []
    },
    {
      "cell_type": "markdown",
      "source": [
        "### k-Nearest Neighbors (kNN) Classifier"
      ],
      "metadata": {
        "id": "lAzhJWOryMW4"
      }
    },
    {
      "cell_type": "code",
      "source": [
        "import random\n",
        "import numpy as np\n",
        "np.random.seed(123)\n",
        "random.seed(123)\n",
        "\n",
        "no_of_neighbors = [3,5,7,9,11]\n",
        "for i in no_of_neighbors:\n",
        "  kNN= KNN(n_neighbors=i).fit(X_train_1,y_train_1)\n",
        "  y_predictions_val = kNN.predict(X_val)\n",
        "  print('The accuracy for NN={} on the training data is {:.3f}'.format(i, kNN.score(X_train_1, y_train_1)))\n",
        "  print('The accuracy for NN={} on the validation data is {:.3f}'.format(i, accuracy_score(y_val, y_predictions_val)))"
      ],
      "metadata": {
        "colab": {
          "base_uri": "https://localhost:8080/"
        },
        "id": "DYBCUAJ5oh7J",
        "outputId": "db4cbc34-db13-452e-bb4e-09ec002a7e15"
      },
      "execution_count": null,
      "outputs": [
        {
          "output_type": "stream",
          "name": "stdout",
          "text": [
            "The accuracy for NN=3 on the training data is 1.000\n",
            "The accuracy for NN=3 on the validation data is 0.998\n",
            "The accuracy for NN=5 on the training data is 0.998\n",
            "The accuracy for NN=5 on the validation data is 0.997\n",
            "The accuracy for NN=7 on the training data is 0.997\n",
            "The accuracy for NN=7 on the validation data is 0.993\n",
            "The accuracy for NN=9 on the training data is 0.994\n",
            "The accuracy for NN=9 on the validation data is 0.990\n",
            "The accuracy for NN=11 on the training data is 0.992\n",
            "The accuracy for NN=11 on the validation data is 0.987\n"
          ]
        }
      ]
    },
    {
      "cell_type": "code",
      "source": [
        "import random\n",
        "import numpy as np\n",
        "np.random.seed(123)\n",
        "random.seed(123)\n",
        "\n",
        "from sklearn.metrics import accuracy_score, recall_score, precision_score, f1_score, roc_auc_score, classification_report\n",
        "kNN_best = KNN(n_neighbors = 3).fit(X_train, y_train)\n",
        "y_test_predictions_kNN = kNN_best.predict(X_test)\n",
        "\n",
        "print(\"Training accuracy = {:.3f}\".format(kNN_best.score(X_train,y_train)))\n",
        "print(\"Test accuracy = {:.3f}\".format(accuracy_score(y_test, y_test_predictions_kNN)))\n",
        "\n",
        "print(\"Macro Average Recall = {:.3f}\".format(recall_score(y_test, y_test_predictions_kNN, average='macro')))\n",
        "print(\"Macro Average Precision = {:.3f}\".format(precision_score(y_test, y_test_predictions_kNN, average='macro')))\n",
        "print(\"Macro Average F1 score = {:.3f}\".format(f1_score(y_test, y_test_predictions_kNN, average='macro')))\n",
        "print(\"Macro Average ROC AUC = {:.3f}\".format(roc_auc_score(y_test, kNN_best.predict_proba(X_test), multi_class='ovr', average='macro')))\n",
        "\n",
        "# Here we set average=None to print these metrics for each class individually (when the class is considered positive)\n",
        "np.set_printoptions(precision=24)\n",
        "print(classification_report(y_test, y_test_predictions_kNN)) # classification_report is used to print them out nicely"
      ],
      "metadata": {
        "colab": {
          "base_uri": "https://localhost:8080/"
        },
        "id": "C-PC0OKu3_Hh",
        "outputId": "1eb1dc06-2d07-4559-fa0c-ee8bcb4a0fb0"
      },
      "execution_count": null,
      "outputs": [
        {
          "output_type": "stream",
          "name": "stdout",
          "text": [
            "Training accuracy = 1.000\n",
            "Test accuracy = 0.804\n",
            "Macro Average Recall = 0.798\n",
            "Macro Average Precision = 0.810\n",
            "Macro Average F1 score = 0.793\n",
            "Macro Average ROC AUC = 0.923\n",
            "              precision    recall  f1-score   support\n",
            "\n",
            "           0       0.80      1.00      0.89       331\n",
            "           1       0.95      0.94      0.94       432\n",
            "           2       0.95      1.00      0.97       310\n",
            "           3       0.76      0.95      0.85       245\n",
            "           4       0.78      0.97      0.86       498\n",
            "           5       0.87      0.91      0.89       247\n",
            "           6       0.91      0.94      0.92       348\n",
            "           7       0.95      0.94      0.94       436\n",
            "           8       0.87      0.65      0.75       288\n",
            "          10       0.85      0.59      0.70       331\n",
            "          11       0.93      0.89      0.91       209\n",
            "          12       0.81      0.49      0.61       394\n",
            "          13       0.78      0.59      0.67       291\n",
            "          14       1.00      0.88      0.94       246\n",
            "          15       1.00      1.00      1.00       347\n",
            "          16       0.95      1.00      0.97       164\n",
            "          17       0.32      0.60      0.41       144\n",
            "          18       0.67      0.87      0.76       246\n",
            "          19       0.70      0.70      0.70       248\n",
            "          20       0.42      0.68      0.52       266\n",
            "          21       0.68      0.53      0.59       346\n",
            "          22       0.72      0.68      0.70       206\n",
            "          23       0.80      0.69      0.74       267\n",
            "          24       0.97      0.68      0.80       332\n",
            "\n",
            "    accuracy                           0.80      7172\n",
            "   macro avg       0.81      0.80      0.79      7172\n",
            "weighted avg       0.83      0.80      0.80      7172\n",
            "\n"
          ]
        }
      ]
    },
    {
      "cell_type": "markdown",
      "source": [
        "### Logistic Regression (LR) Classifier"
      ],
      "metadata": {
        "id": "zzEwuVsTyRmA"
      }
    },
    {
      "cell_type": "code",
      "source": [
        "import random\n",
        "import numpy as np\n",
        "np.random.seed(123)\n",
        "random.seed(123)\n",
        "\n",
        "C = [0.01, 0.1, 1, 10]\n",
        "for i in C:\n",
        "  lrr = LRR(C=i, penalty = 'l2', solver = 'liblinear').fit(X_train_1, y_train_1)\n",
        "  y_predictions_val = lrr.predict(X_val)\n",
        "  print('The accuracy for C={} on the training data is {:.3f}'.format(i, lrr.score(X_train_1, y_train_1)))\n",
        "  print('The accuracy for C={} on the validation data is {:.3f}'.format(i, accuracy_score(y_val, y_predictions_val)))"
      ],
      "metadata": {
        "id": "4N0n1zFaxmPC",
        "colab": {
          "base_uri": "https://localhost:8080/"
        },
        "outputId": "af94e06d-6984-4d70-c627-a8b9068fbb0d"
      },
      "execution_count": null,
      "outputs": [
        {
          "output_type": "stream",
          "name": "stdout",
          "text": [
            "The accuracy for C=0.01 on the training data is 0.816\n",
            "The accuracy for C=0.01 on the validation data is 0.807\n",
            "The accuracy for C=0.1 on the training data is 0.961\n",
            "The accuracy for C=0.1 on the validation data is 0.952\n",
            "The accuracy for C=1 on the training data is 0.999\n",
            "The accuracy for C=1 on the validation data is 0.998\n",
            "The accuracy for C=10 on the training data is 1.000\n",
            "The accuracy for C=10 on the validation data is 0.999\n"
          ]
        }
      ]
    },
    {
      "cell_type": "code",
      "source": [
        "from sklearn.metrics import accuracy_score, recall_score, precision_score, f1_score, roc_auc_score, classification_report\n",
        "import random\n",
        "import numpy as np\n",
        "np.random.seed(123)\n",
        "random.seed(123)\n",
        "\n",
        "lrr_best = LRR(C= 10, penalty = 'l2', solver = 'liblinear').fit(X_train, y_train)\n",
        "y_test_predictions_lrr = lrr_best.predict(X_test)\n",
        "\n",
        "print(\"Training accuracy = {:.3f}\".format(lrr_best.score(X_train,y_train)))\n",
        "print(\"Test accuracy = {:.3f}\".format(accuracy_score(y_test, y_test_predictions_lrr)))\n",
        "\n",
        "print(\"Macro Average Recall = {:.3f}\".format(recall_score(y_test, y_test_predictions_lrr, average='macro')))\n",
        "print(\"Macro Average Precision = {:.3f}\".format(precision_score(y_test, y_test_predictions_lrr, average='macro')))\n",
        "print(\"Macro Average F1 score = {:.3f}\".format(f1_score(y_test, y_test_predictions_lrr, average='macro')))\n",
        "print(\"Macro Average ROC AUC = {:.3f}\".format(roc_auc_score(y_test, lrr_best.predict_proba(X_test), multi_class='ovr', average='macro')))\n",
        "\n",
        "# Here we set average=None to print these metrics for each class individually (when the class is considered positive)\n",
        "np.set_printoptions(precision=24)\n",
        "print(classification_report(y_test, y_test_predictions_lrr)) # classification_report is used to print them out nicely"
      ],
      "metadata": {
        "colab": {
          "base_uri": "https://localhost:8080/"
        },
        "id": "ZjmsQUfCHaux",
        "outputId": "9cec951a-d0e5-446d-b565-06dffb8afc4e"
      },
      "execution_count": null,
      "outputs": [
        {
          "output_type": "stream",
          "name": "stdout",
          "text": [
            "Training accuracy = 1.000\n",
            "Test accuracy = 0.660\n",
            "Macro Average Recall = 0.648\n",
            "Macro Average Precision = 0.664\n",
            "Macro Average F1 score = 0.641\n",
            "Macro Average ROC AUC = 0.935\n",
            "              precision    recall  f1-score   support\n",
            "\n",
            "           0       0.83      0.89      0.85       331\n",
            "           1       1.00      0.82      0.90       432\n",
            "           2       0.93      0.86      0.89       310\n",
            "           3       0.78      0.92      0.84       245\n",
            "           4       0.80      0.88      0.84       498\n",
            "           5       0.61      0.89      0.72       247\n",
            "           6       0.70      0.80      0.75       348\n",
            "           7       0.83      0.71      0.77       436\n",
            "           8       0.70      0.57      0.62       288\n",
            "          10       0.65      0.35      0.46       331\n",
            "          11       0.76      0.90      0.82       209\n",
            "          12       0.67      0.49      0.57       394\n",
            "          13       0.54      0.45      0.49       291\n",
            "          14       1.00      0.58      0.73       246\n",
            "          15       0.79      0.77      0.78       347\n",
            "          16       0.57      0.74      0.65       164\n",
            "          17       0.19      0.43      0.26       144\n",
            "          18       0.37      0.53      0.44       246\n",
            "          19       0.38      0.51      0.43       248\n",
            "          20       0.45      0.54      0.49       266\n",
            "          21       0.60      0.48      0.53       346\n",
            "          22       0.34      0.50      0.40       206\n",
            "          23       0.77      0.39      0.51       267\n",
            "          24       0.70      0.57      0.62       332\n",
            "\n",
            "    accuracy                           0.66      7172\n",
            "   macro avg       0.66      0.65      0.64      7172\n",
            "weighted avg       0.70      0.66      0.66      7172\n",
            "\n"
          ]
        }
      ]
    },
    {
      "cell_type": "markdown",
      "source": [
        "## Random Forest classifier"
      ],
      "metadata": {
        "id": "Kh5ulpkL3OcK"
      }
    },
    {
      "cell_type": "code",
      "source": [
        "import random\n",
        "import numpy as np\n",
        "np.random.seed(123)\n",
        "random.seed(123)\n",
        "\n",
        "no_of_estimators = [50,100,150,200]\n",
        "for i in no_of_estimators:\n",
        "  RF= RandomForestClassifier(n_estimators = i, random_state = 42).fit(X_train_1,y_train_1)\n",
        "  y_predictions_val = RF.predict(X_val)\n",
        "  print('The accuracy for no. of trees={} on the training data is {:.3f}'.format(i, RF.score(X_train_1, y_train_1)))\n",
        "  print('The accuracy for no. of trees={} on the validation data is {:.3f}'.format(i, accuracy_score(y_val, y_predictions_val)))"
      ],
      "metadata": {
        "id": "cUFaIj7h7fp7",
        "colab": {
          "base_uri": "https://localhost:8080/"
        },
        "outputId": "e5bf9aba-b6ba-464d-ca3d-e473da01b166"
      },
      "execution_count": null,
      "outputs": [
        {
          "output_type": "stream",
          "name": "stdout",
          "text": [
            "The accuracy for no. of trees=50 on the training data is 1.000\n",
            "The accuracy for no. of trees=50 on the validation data is 0.995\n",
            "The accuracy for no. of trees=100 on the training data is 1.000\n",
            "The accuracy for no. of trees=100 on the validation data is 0.997\n",
            "The accuracy for no. of trees=150 on the training data is 1.000\n",
            "The accuracy for no. of trees=150 on the validation data is 0.998\n",
            "The accuracy for no. of trees=200 on the training data is 1.000\n",
            "The accuracy for no. of trees=200 on the validation data is 0.998\n"
          ]
        }
      ]
    },
    {
      "cell_type": "code",
      "source": [
        "import random\n",
        "import numpy as np\n",
        "np.random.seed(123)\n",
        "random.seed(123)\n",
        "\n",
        "rf_best = RandomForestClassifier(n_estimators=150).fit(X_train, y_train)\n",
        "y_test_predictions_rf = rf_best.predict(X_test)\n",
        "\n",
        "print(\"Training accuracy = {:.3f}\".format(rf_best.score(X_train,y_train)))\n",
        "print(\"Test accuracy = {:.3f}\".format(accuracy_score(y_test, y_test_predictions_rf)))\n",
        "\n",
        "print(\"Macro Average Recall = {:.3f}\".format(recall_score(y_test, y_test_predictions_rf, average='macro')))\n",
        "print(\"Macro Average Precision = {:.3f}\".format(precision_score(y_test, y_test_predictions_rf, average='macro')))\n",
        "print(\"Macro Average F1 score = {:.3f}\".format(f1_score(y_test, y_test_predictions_rf, average='macro')))\n",
        "print(\"Macro Average ROC AUC = {:.3f}\".format(roc_auc_score(y_test, rf_best.predict_proba(X_test), multi_class='ovr', average='macro')))\n",
        "\n",
        "# Here we set average=None to print these metrics for each class individually (when the class is considered positive)\n",
        "np.set_printoptions(precision=24)\n",
        "print(classification_report(y_test, y_test_predictions_rf)) # classification_report is used to print them out nicely"
      ],
      "metadata": {
        "id": "y6ystJ_C67VS",
        "colab": {
          "base_uri": "https://localhost:8080/"
        },
        "outputId": "1e46b247-83c4-4f1a-dba9-1f9794c5a5df"
      },
      "execution_count": null,
      "outputs": [
        {
          "output_type": "stream",
          "name": "stdout",
          "text": [
            "Training accuracy = 1.000\n",
            "Test accuracy = 0.820\n",
            "Macro Average Recall = 0.814\n",
            "Macro Average Precision = 0.817\n",
            "Macro Average F1 score = 0.806\n",
            "Macro Average ROC AUC = 0.984\n",
            "              precision    recall  f1-score   support\n",
            "\n",
            "           0       0.92      1.00      0.96       331\n",
            "           1       0.98      0.94      0.96       432\n",
            "           2       0.97      0.99      0.98       310\n",
            "           3       0.94      0.98      0.96       245\n",
            "           4       0.88      0.97      0.92       498\n",
            "           5       0.90      0.92      0.91       247\n",
            "           6       0.92      0.84      0.88       348\n",
            "           7       0.96      0.94      0.95       436\n",
            "           8       0.82      0.77      0.79       288\n",
            "          10       0.77      0.69      0.73       331\n",
            "          11       0.79      1.00      0.89       209\n",
            "          12       0.85      0.65      0.74       394\n",
            "          13       0.80      0.53      0.64       291\n",
            "          14       0.98      0.88      0.93       246\n",
            "          15       0.93      1.00      0.96       347\n",
            "          16       0.93      1.00      0.96       164\n",
            "          17       0.29      0.54      0.38       144\n",
            "          18       0.54      0.83      0.65       246\n",
            "          19       0.59      0.82      0.69       248\n",
            "          20       0.68      0.67      0.68       266\n",
            "          21       0.86      0.55      0.67       346\n",
            "          22       0.53      0.72      0.61       206\n",
            "          23       0.86      0.71      0.78       267\n",
            "          24       0.90      0.60      0.72       332\n",
            "\n",
            "    accuracy                           0.82      7172\n",
            "   macro avg       0.82      0.81      0.81      7172\n",
            "weighted avg       0.84      0.82      0.82      7172\n",
            "\n"
          ]
        }
      ]
    }
  ]
}